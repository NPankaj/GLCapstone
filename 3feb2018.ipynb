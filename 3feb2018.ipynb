{
 "cells": [
  {
   "cell_type": "code",
   "execution_count": 1,
   "metadata": {
    "collapsed": true
   },
   "outputs": [],
   "source": [
    "import pandas as pd \n",
    "import numpy as np \n",
    "from sklearn.model_selection import StratifiedShuffleSplit\n",
    "from sklearn.model_selection import train_test_split\n",
    "from sklearn.model_selection import cross_val_score\n",
    "from sklearn.model_selection import cross_val_predict\n",
    "from sklearn.metrics import confusion_matrix\n",
    "from sklearn.metrics import precision_score, recall_score"
   ]
  },
  {
   "cell_type": "code",
   "execution_count": 2,
   "metadata": {
    "collapsed": true
   },
   "outputs": [],
   "source": [
    "data = pd.read_csv(\"pks\",sep='\\t')"
   ]
  },
  {
   "cell_type": "code",
   "execution_count": 3,
   "metadata": {
    "collapsed": true
   },
   "outputs": [],
   "source": [
    "datay1 = data[data[\"is_booking\"] == 1]"
   ]
  },
  {
   "cell_type": "code",
   "execution_count": 5,
   "metadata": {},
   "outputs": [
    {
     "name": "stdout",
     "output_type": "stream",
     "text": [
      "<class 'pandas.core.frame.DataFrame'>\n",
      "Int64Index: 12096 entries, 1 to 149996\n",
      "Data columns (total 25 columns):\n",
      "Unnamed: 0                   12096 non-null int64\n",
      "date_time                    12096 non-null object\n",
      "site_name                    12096 non-null int64\n",
      "posa_continent               12096 non-null int64\n",
      "user_location_country        12096 non-null int64\n",
      "user_location_region         12096 non-null int64\n",
      "user_location_city           12096 non-null int64\n",
      "orig_destination_distance    7941 non-null float64\n",
      "user_id                      12096 non-null int64\n",
      "is_mobile                    12096 non-null int64\n",
      "is_package                   12096 non-null int64\n",
      "channel                      12096 non-null int64\n",
      "srch_ci                      12096 non-null object\n",
      "srch_co                      12096 non-null object\n",
      "srch_adults_cnt              12096 non-null int64\n",
      "srch_children_cnt            12096 non-null int64\n",
      "srch_rm_cnt                  12096 non-null int64\n",
      "srch_destination_id          12096 non-null int64\n",
      "srch_destination_type_id     12096 non-null int64\n",
      "is_booking                   12096 non-null int64\n",
      "cnt                          12096 non-null int64\n",
      "hotel_continent              12096 non-null int64\n",
      "hotel_country                12096 non-null int64\n",
      "hotel_market                 12096 non-null int64\n",
      "hotel_cluster                12096 non-null int64\n",
      "dtypes: float64(1), int64(21), object(3)\n",
      "memory usage: 2.4+ MB\n"
     ]
    }
   ],
   "source": [
    "datay1.info()"
   ]
  },
  {
   "cell_type": "code",
   "execution_count": 6,
   "metadata": {
    "collapsed": true
   },
   "outputs": [],
   "source": [
    "datay0 = data[data[\"is_booking\"] == 0]"
   ]
  },
  {
   "cell_type": "code",
   "execution_count": 7,
   "metadata": {},
   "outputs": [
    {
     "name": "stdout",
     "output_type": "stream",
     "text": [
      "<class 'pandas.core.frame.DataFrame'>\n",
      "Int64Index: 137904 entries, 0 to 149999\n",
      "Data columns (total 25 columns):\n",
      "Unnamed: 0                   137904 non-null int64\n",
      "date_time                    137904 non-null object\n",
      "site_name                    137904 non-null int64\n",
      "posa_continent               137904 non-null int64\n",
      "user_location_country        137904 non-null int64\n",
      "user_location_region         137904 non-null int64\n",
      "user_location_city           137904 non-null int64\n",
      "orig_destination_distance    88350 non-null float64\n",
      "user_id                      137904 non-null int64\n",
      "is_mobile                    137904 non-null int64\n",
      "is_package                   137904 non-null int64\n",
      "channel                      137904 non-null int64\n",
      "srch_ci                      137702 non-null object\n",
      "srch_co                      137702 non-null object\n",
      "srch_adults_cnt              137904 non-null int64\n",
      "srch_children_cnt            137904 non-null int64\n",
      "srch_rm_cnt                  137904 non-null int64\n",
      "srch_destination_id          137904 non-null int64\n",
      "srch_destination_type_id     137904 non-null int64\n",
      "is_booking                   137904 non-null int64\n",
      "cnt                          137904 non-null int64\n",
      "hotel_continent              137904 non-null int64\n",
      "hotel_country                137904 non-null int64\n",
      "hotel_market                 137904 non-null int64\n",
      "hotel_cluster                137904 non-null int64\n",
      "dtypes: float64(1), int64(21), object(3)\n",
      "memory usage: 27.4+ MB\n"
     ]
    }
   ],
   "source": [
    "datay0.info()"
   ]
  },
  {
   "cell_type": "code",
   "execution_count": 8,
   "metadata": {
    "collapsed": true
   },
   "outputs": [],
   "source": [
    "datay0n = datay0.head(12000).copy()"
   ]
  },
  {
   "cell_type": "code",
   "execution_count": 9,
   "metadata": {
    "collapsed": true
   },
   "outputs": [],
   "source": [
    "data = pd.concat([datay1,datay0n])"
   ]
  },
  {
   "cell_type": "code",
   "execution_count": 10,
   "metadata": {},
   "outputs": [
    {
     "name": "stdout",
     "output_type": "stream",
     "text": [
      "<class 'pandas.core.frame.DataFrame'>\n",
      "Int64Index: 24096 entries, 1 to 13057\n",
      "Data columns (total 25 columns):\n",
      "Unnamed: 0                   24096 non-null int64\n",
      "date_time                    24096 non-null object\n",
      "site_name                    24096 non-null int64\n",
      "posa_continent               24096 non-null int64\n",
      "user_location_country        24096 non-null int64\n",
      "user_location_region         24096 non-null int64\n",
      "user_location_city           24096 non-null int64\n",
      "orig_destination_distance    15597 non-null float64\n",
      "user_id                      24096 non-null int64\n",
      "is_mobile                    24096 non-null int64\n",
      "is_package                   24096 non-null int64\n",
      "channel                      24096 non-null int64\n",
      "srch_ci                      24084 non-null object\n",
      "srch_co                      24084 non-null object\n",
      "srch_adults_cnt              24096 non-null int64\n",
      "srch_children_cnt            24096 non-null int64\n",
      "srch_rm_cnt                  24096 non-null int64\n",
      "srch_destination_id          24096 non-null int64\n",
      "srch_destination_type_id     24096 non-null int64\n",
      "is_booking                   24096 non-null int64\n",
      "cnt                          24096 non-null int64\n",
      "hotel_continent              24096 non-null int64\n",
      "hotel_country                24096 non-null int64\n",
      "hotel_market                 24096 non-null int64\n",
      "hotel_cluster                24096 non-null int64\n",
      "dtypes: float64(1), int64(21), object(3)\n",
      "memory usage: 4.8+ MB\n"
     ]
    }
   ],
   "source": [
    "data.info()"
   ]
  },
  {
   "cell_type": "code",
   "execution_count": 18,
   "metadata": {},
   "outputs": [
    {
     "data": {
      "text/plain": [
       "False    15597\n",
       "True      8499\n",
       "Name: orig_destination_distance, dtype: int64"
      ]
     },
     "execution_count": 18,
     "metadata": {},
     "output_type": "execute_result"
    }
   ],
   "source": [
    "data[\"orig_destination_distance\"].isnull().value_counts()"
   ]
  },
  {
   "cell_type": "code",
   "execution_count": 24,
   "metadata": {
    "collapsed": true
   },
   "outputs": [],
   "source": [
    "# Split datetime, checkin date, checkout date features to Year and Month\n",
    "data[\"date_time\"] = pd.to_datetime(data[\"date_time\"])\n",
    "data[\"srch_ci\"] = pd.to_datetime(data[\"srch_ci\"], format='%Y-%m-%d', errors=\"coerce\")\n",
    "data[\"srch_co\"] = pd.to_datetime(data[\"srch_co\"], format='%Y-%m-%d', errors=\"coerce\")\n",
    "data[\"year\"] = data[\"date_time\"].dt.year\n",
    "data[\"month\"] = data[\"date_time\"].dt.month\n",
    "data[\"day\"] = data[\"date_time\"].dt.day\n",
    "data[\"month\"] = data[\"date_time\"].dt.month\n",
    "data[\"srch_ci_year\"] = data[\"srch_ci\"].dt.year\n",
    "data[\"srch_ci_month\"] = data[\"srch_ci\"].dt.month\n",
    "data[\"srch_ci_day\"] = data[\"srch_ci\"].dt.day\n",
    "data[\"srch_co_year\"] = data[\"srch_co\"].dt.year\n",
    "data[\"srch_co_month\"] = data[\"srch_co\"].dt.month\n",
    "data[\"srch_co_day\"] = data[\"srch_co\"].dt.day\n"
   ]
  },
  {
   "cell_type": "code",
   "execution_count": 25,
   "metadata": {
    "collapsed": true
   },
   "outputs": [],
   "source": [
    "data = data[data['srch_ci'].notnull()]"
   ]
  },
  {
   "cell_type": "code",
   "execution_count": 26,
   "metadata": {},
   "outputs": [],
   "source": [
    "data['stay'] = data[\"srch_co_day\"] - data[\"srch_ci_day\"]"
   ]
  },
  {
   "cell_type": "code",
   "execution_count": 28,
   "metadata": {
    "collapsed": true
   },
   "outputs": [],
   "source": [
    "data1 = data.drop([\"orig_destination_distance\",\"date_time\",\"srch_ci\",\"srch_co\",'Unnamed: 0'],axis=1)"
   ]
  },
  {
   "cell_type": "code",
   "execution_count": 29,
   "metadata": {},
   "outputs": [
    {
     "data": {
      "text/html": [
       "<div>\n",
       "<style>\n",
       "    .dataframe thead tr:only-child th {\n",
       "        text-align: right;\n",
       "    }\n",
       "\n",
       "    .dataframe thead th {\n",
       "        text-align: left;\n",
       "    }\n",
       "\n",
       "    .dataframe tbody tr th {\n",
       "        vertical-align: top;\n",
       "    }\n",
       "</style>\n",
       "<table border=\"1\" class=\"dataframe\">\n",
       "  <thead>\n",
       "    <tr style=\"text-align: right;\">\n",
       "      <th></th>\n",
       "      <th>site_name</th>\n",
       "      <th>posa_continent</th>\n",
       "      <th>user_location_country</th>\n",
       "      <th>user_location_region</th>\n",
       "      <th>user_location_city</th>\n",
       "      <th>user_id</th>\n",
       "      <th>is_mobile</th>\n",
       "      <th>is_package</th>\n",
       "      <th>channel</th>\n",
       "      <th>srch_adults_cnt</th>\n",
       "      <th>...</th>\n",
       "      <th>year</th>\n",
       "      <th>month</th>\n",
       "      <th>day</th>\n",
       "      <th>srch_ci_year</th>\n",
       "      <th>srch_ci_month</th>\n",
       "      <th>srch_ci_day</th>\n",
       "      <th>srch_co_year</th>\n",
       "      <th>srch_co_month</th>\n",
       "      <th>srch_co_day</th>\n",
       "      <th>stay</th>\n",
       "    </tr>\n",
       "  </thead>\n",
       "  <tbody>\n",
       "    <tr>\n",
       "      <th>1</th>\n",
       "      <td>2</td>\n",
       "      <td>3</td>\n",
       "      <td>66</td>\n",
       "      <td>337</td>\n",
       "      <td>36345</td>\n",
       "      <td>961325</td>\n",
       "      <td>0</td>\n",
       "      <td>1</td>\n",
       "      <td>0</td>\n",
       "      <td>2</td>\n",
       "      <td>...</td>\n",
       "      <td>2014</td>\n",
       "      <td>8</td>\n",
       "      <td>8</td>\n",
       "      <td>2014</td>\n",
       "      <td>8</td>\n",
       "      <td>16</td>\n",
       "      <td>2014</td>\n",
       "      <td>8</td>\n",
       "      <td>17</td>\n",
       "      <td>1</td>\n",
       "    </tr>\n",
       "    <tr>\n",
       "      <th>3</th>\n",
       "      <td>2</td>\n",
       "      <td>3</td>\n",
       "      <td>66</td>\n",
       "      <td>318</td>\n",
       "      <td>27770</td>\n",
       "      <td>1036521</td>\n",
       "      <td>0</td>\n",
       "      <td>0</td>\n",
       "      <td>9</td>\n",
       "      <td>2</td>\n",
       "      <td>...</td>\n",
       "      <td>2014</td>\n",
       "      <td>6</td>\n",
       "      <td>9</td>\n",
       "      <td>2014</td>\n",
       "      <td>6</td>\n",
       "      <td>13</td>\n",
       "      <td>2014</td>\n",
       "      <td>6</td>\n",
       "      <td>16</td>\n",
       "      <td>3</td>\n",
       "    </tr>\n",
       "    <tr>\n",
       "      <th>12</th>\n",
       "      <td>2</td>\n",
       "      <td>3</td>\n",
       "      <td>48</td>\n",
       "      <td>424</td>\n",
       "      <td>35910</td>\n",
       "      <td>185258</td>\n",
       "      <td>0</td>\n",
       "      <td>0</td>\n",
       "      <td>9</td>\n",
       "      <td>1</td>\n",
       "      <td>...</td>\n",
       "      <td>2014</td>\n",
       "      <td>7</td>\n",
       "      <td>24</td>\n",
       "      <td>2014</td>\n",
       "      <td>7</td>\n",
       "      <td>26</td>\n",
       "      <td>2014</td>\n",
       "      <td>7</td>\n",
       "      <td>29</td>\n",
       "      <td>3</td>\n",
       "    </tr>\n",
       "    <tr>\n",
       "      <th>16</th>\n",
       "      <td>2</td>\n",
       "      <td>3</td>\n",
       "      <td>66</td>\n",
       "      <td>337</td>\n",
       "      <td>56223</td>\n",
       "      <td>858166</td>\n",
       "      <td>0</td>\n",
       "      <td>0</td>\n",
       "      <td>1</td>\n",
       "      <td>2</td>\n",
       "      <td>...</td>\n",
       "      <td>2013</td>\n",
       "      <td>9</td>\n",
       "      <td>19</td>\n",
       "      <td>2013</td>\n",
       "      <td>9</td>\n",
       "      <td>26</td>\n",
       "      <td>2013</td>\n",
       "      <td>9</td>\n",
       "      <td>27</td>\n",
       "      <td>1</td>\n",
       "    </tr>\n",
       "    <tr>\n",
       "      <th>19</th>\n",
       "      <td>2</td>\n",
       "      <td>3</td>\n",
       "      <td>66</td>\n",
       "      <td>318</td>\n",
       "      <td>29466</td>\n",
       "      <td>60161</td>\n",
       "      <td>1</td>\n",
       "      <td>1</td>\n",
       "      <td>0</td>\n",
       "      <td>1</td>\n",
       "      <td>...</td>\n",
       "      <td>2014</td>\n",
       "      <td>3</td>\n",
       "      <td>23</td>\n",
       "      <td>2014</td>\n",
       "      <td>4</td>\n",
       "      <td>7</td>\n",
       "      <td>2014</td>\n",
       "      <td>4</td>\n",
       "      <td>11</td>\n",
       "      <td>4</td>\n",
       "    </tr>\n",
       "  </tbody>\n",
       "</table>\n",
       "<p>5 rows × 30 columns</p>\n",
       "</div>"
      ],
      "text/plain": [
       "    site_name  posa_continent  user_location_country  user_location_region  \\\n",
       "1           2               3                     66                   337   \n",
       "3           2               3                     66                   318   \n",
       "12          2               3                     48                   424   \n",
       "16          2               3                     66                   337   \n",
       "19          2               3                     66                   318   \n",
       "\n",
       "    user_location_city  user_id  is_mobile  is_package  channel  \\\n",
       "1                36345   961325          0           1        0   \n",
       "3                27770  1036521          0           0        9   \n",
       "12               35910   185258          0           0        9   \n",
       "16               56223   858166          0           0        1   \n",
       "19               29466    60161          1           1        0   \n",
       "\n",
       "    srch_adults_cnt  ...   year  month  day  srch_ci_year  srch_ci_month  \\\n",
       "1                 2  ...   2014      8    8          2014              8   \n",
       "3                 2  ...   2014      6    9          2014              6   \n",
       "12                1  ...   2014      7   24          2014              7   \n",
       "16                2  ...   2013      9   19          2013              9   \n",
       "19                1  ...   2014      3   23          2014              4   \n",
       "\n",
       "    srch_ci_day  srch_co_year  srch_co_month  srch_co_day  stay  \n",
       "1            16          2014              8           17     1  \n",
       "3            13          2014              6           16     3  \n",
       "12           26          2014              7           29     3  \n",
       "16           26          2013              9           27     1  \n",
       "19            7          2014              4           11     4  \n",
       "\n",
       "[5 rows x 30 columns]"
      ]
     },
     "execution_count": 29,
     "metadata": {},
     "output_type": "execute_result"
    }
   ],
   "source": [
    "data1.head()"
   ]
  },
  {
   "cell_type": "code",
   "execution_count": 30,
   "metadata": {
    "collapsed": true
   },
   "outputs": [],
   "source": [
    "destination = pd.read_csv(\"destinations.csv\")"
   ]
  },
  {
   "cell_type": "code",
   "execution_count": 31,
   "metadata": {
    "collapsed": true
   },
   "outputs": [],
   "source": [
    "merged_df = pd.merge(data1,destination,on=\"srch_destination_id\")"
   ]
  },
  {
   "cell_type": "code",
   "execution_count": 32,
   "metadata": {},
   "outputs": [
    {
     "data": {
      "text/html": [
       "<div>\n",
       "<style>\n",
       "    .dataframe thead tr:only-child th {\n",
       "        text-align: right;\n",
       "    }\n",
       "\n",
       "    .dataframe thead th {\n",
       "        text-align: left;\n",
       "    }\n",
       "\n",
       "    .dataframe tbody tr th {\n",
       "        vertical-align: top;\n",
       "    }\n",
       "</style>\n",
       "<table border=\"1\" class=\"dataframe\">\n",
       "  <thead>\n",
       "    <tr style=\"text-align: right;\">\n",
       "      <th></th>\n",
       "      <th>site_name</th>\n",
       "      <th>posa_continent</th>\n",
       "      <th>user_location_country</th>\n",
       "      <th>user_location_region</th>\n",
       "      <th>user_location_city</th>\n",
       "      <th>user_id</th>\n",
       "      <th>is_mobile</th>\n",
       "      <th>is_package</th>\n",
       "      <th>channel</th>\n",
       "      <th>srch_adults_cnt</th>\n",
       "      <th>...</th>\n",
       "      <th>d140</th>\n",
       "      <th>d141</th>\n",
       "      <th>d142</th>\n",
       "      <th>d143</th>\n",
       "      <th>d144</th>\n",
       "      <th>d145</th>\n",
       "      <th>d146</th>\n",
       "      <th>d147</th>\n",
       "      <th>d148</th>\n",
       "      <th>d149</th>\n",
       "    </tr>\n",
       "  </thead>\n",
       "  <tbody>\n",
       "    <tr>\n",
       "      <th>0</th>\n",
       "      <td>2</td>\n",
       "      <td>3</td>\n",
       "      <td>66</td>\n",
       "      <td>337</td>\n",
       "      <td>36345</td>\n",
       "      <td>961325</td>\n",
       "      <td>0</td>\n",
       "      <td>1</td>\n",
       "      <td>0</td>\n",
       "      <td>2</td>\n",
       "      <td>...</td>\n",
       "      <td>-2.347477</td>\n",
       "      <td>-2.340371</td>\n",
       "      <td>-2.350902</td>\n",
       "      <td>-2.299079</td>\n",
       "      <td>-2.297791</td>\n",
       "      <td>-2.345402</td>\n",
       "      <td>-2.350692</td>\n",
       "      <td>-2.347038</td>\n",
       "      <td>-2.351659</td>\n",
       "      <td>-2.338838</td>\n",
       "    </tr>\n",
       "    <tr>\n",
       "      <th>1</th>\n",
       "      <td>2</td>\n",
       "      <td>3</td>\n",
       "      <td>66</td>\n",
       "      <td>448</td>\n",
       "      <td>18816</td>\n",
       "      <td>18200</td>\n",
       "      <td>0</td>\n",
       "      <td>0</td>\n",
       "      <td>9</td>\n",
       "      <td>2</td>\n",
       "      <td>...</td>\n",
       "      <td>-2.347477</td>\n",
       "      <td>-2.340371</td>\n",
       "      <td>-2.350902</td>\n",
       "      <td>-2.299079</td>\n",
       "      <td>-2.297791</td>\n",
       "      <td>-2.345402</td>\n",
       "      <td>-2.350692</td>\n",
       "      <td>-2.347038</td>\n",
       "      <td>-2.351659</td>\n",
       "      <td>-2.338838</td>\n",
       "    </tr>\n",
       "    <tr>\n",
       "      <th>2</th>\n",
       "      <td>2</td>\n",
       "      <td>3</td>\n",
       "      <td>66</td>\n",
       "      <td>363</td>\n",
       "      <td>3062</td>\n",
       "      <td>814005</td>\n",
       "      <td>0</td>\n",
       "      <td>0</td>\n",
       "      <td>9</td>\n",
       "      <td>1</td>\n",
       "      <td>...</td>\n",
       "      <td>-2.347477</td>\n",
       "      <td>-2.340371</td>\n",
       "      <td>-2.350902</td>\n",
       "      <td>-2.299079</td>\n",
       "      <td>-2.297791</td>\n",
       "      <td>-2.345402</td>\n",
       "      <td>-2.350692</td>\n",
       "      <td>-2.347038</td>\n",
       "      <td>-2.351659</td>\n",
       "      <td>-2.338838</td>\n",
       "    </tr>\n",
       "    <tr>\n",
       "      <th>3</th>\n",
       "      <td>2</td>\n",
       "      <td>3</td>\n",
       "      <td>66</td>\n",
       "      <td>314</td>\n",
       "      <td>36941</td>\n",
       "      <td>562791</td>\n",
       "      <td>0</td>\n",
       "      <td>1</td>\n",
       "      <td>1</td>\n",
       "      <td>1</td>\n",
       "      <td>...</td>\n",
       "      <td>-2.347477</td>\n",
       "      <td>-2.340371</td>\n",
       "      <td>-2.350902</td>\n",
       "      <td>-2.299079</td>\n",
       "      <td>-2.297791</td>\n",
       "      <td>-2.345402</td>\n",
       "      <td>-2.350692</td>\n",
       "      <td>-2.347038</td>\n",
       "      <td>-2.351659</td>\n",
       "      <td>-2.338838</td>\n",
       "    </tr>\n",
       "    <tr>\n",
       "      <th>4</th>\n",
       "      <td>2</td>\n",
       "      <td>3</td>\n",
       "      <td>66</td>\n",
       "      <td>348</td>\n",
       "      <td>47997</td>\n",
       "      <td>1046387</td>\n",
       "      <td>0</td>\n",
       "      <td>0</td>\n",
       "      <td>9</td>\n",
       "      <td>2</td>\n",
       "      <td>...</td>\n",
       "      <td>-2.347477</td>\n",
       "      <td>-2.340371</td>\n",
       "      <td>-2.350902</td>\n",
       "      <td>-2.299079</td>\n",
       "      <td>-2.297791</td>\n",
       "      <td>-2.345402</td>\n",
       "      <td>-2.350692</td>\n",
       "      <td>-2.347038</td>\n",
       "      <td>-2.351659</td>\n",
       "      <td>-2.338838</td>\n",
       "    </tr>\n",
       "  </tbody>\n",
       "</table>\n",
       "<p>5 rows × 179 columns</p>\n",
       "</div>"
      ],
      "text/plain": [
       "   site_name  posa_continent  user_location_country  user_location_region  \\\n",
       "0          2               3                     66                   337   \n",
       "1          2               3                     66                   448   \n",
       "2          2               3                     66                   363   \n",
       "3          2               3                     66                   314   \n",
       "4          2               3                     66                   348   \n",
       "\n",
       "   user_location_city  user_id  is_mobile  is_package  channel  \\\n",
       "0               36345   961325          0           1        0   \n",
       "1               18816    18200          0           0        9   \n",
       "2                3062   814005          0           0        9   \n",
       "3               36941   562791          0           1        1   \n",
       "4               47997  1046387          0           0        9   \n",
       "\n",
       "   srch_adults_cnt    ...         d140      d141      d142      d143  \\\n",
       "0                2    ...    -2.347477 -2.340371 -2.350902 -2.299079   \n",
       "1                2    ...    -2.347477 -2.340371 -2.350902 -2.299079   \n",
       "2                1    ...    -2.347477 -2.340371 -2.350902 -2.299079   \n",
       "3                1    ...    -2.347477 -2.340371 -2.350902 -2.299079   \n",
       "4                2    ...    -2.347477 -2.340371 -2.350902 -2.299079   \n",
       "\n",
       "       d144      d145      d146      d147      d148      d149  \n",
       "0 -2.297791 -2.345402 -2.350692 -2.347038 -2.351659 -2.338838  \n",
       "1 -2.297791 -2.345402 -2.350692 -2.347038 -2.351659 -2.338838  \n",
       "2 -2.297791 -2.345402 -2.350692 -2.347038 -2.351659 -2.338838  \n",
       "3 -2.297791 -2.345402 -2.350692 -2.347038 -2.351659 -2.338838  \n",
       "4 -2.297791 -2.345402 -2.350692 -2.347038 -2.351659 -2.338838  \n",
       "\n",
       "[5 rows x 179 columns]"
      ]
     },
     "execution_count": 32,
     "metadata": {},
     "output_type": "execute_result"
    }
   ],
   "source": [
    "merged_df.head()"
   ]
  },
  {
   "cell_type": "code",
   "execution_count": 82,
   "metadata": {
    "collapsed": true
   },
   "outputs": [],
   "source": [
    "X_orig = merged_df.drop(\"is_booking\",axis=1).copy()"
   ]
  },
  {
   "cell_type": "code",
   "execution_count": 33,
   "metadata": {
    "collapsed": true
   },
   "outputs": [],
   "source": [
    "\n",
    "X_train = merged_df.drop(\"is_booking\",axis=1).copy().values\n",
    "y_train = merged_df[\"is_booking\"].copy().values\n"
   ]
  },
  {
   "cell_type": "code",
   "execution_count": 34,
   "metadata": {
    "collapsed": true
   },
   "outputs": [],
   "source": [
    "from sklearn.preprocessing import StandardScaler\n",
    "\n",
    "size = StandardScaler()"
   ]
  },
  {
   "cell_type": "code",
   "execution_count": 35,
   "metadata": {
    "collapsed": true
   },
   "outputs": [],
   "source": [
    "X_train = size.fit_transform(X_train)\n"
   ]
  },
  {
   "cell_type": "code",
   "execution_count": 36,
   "metadata": {
    "collapsed": true
   },
   "outputs": [],
   "source": [
    "X_train, X_test, y_train, y_test = train_test_split(X_train, y_train, test_size=0.33, random_state=42)"
   ]
  },
  {
   "cell_type": "code",
   "execution_count": 37,
   "metadata": {},
   "outputs": [
    {
     "data": {
      "text/plain": [
       "0.62989546771619054"
      ]
     },
     "execution_count": 37,
     "metadata": {},
     "output_type": "execute_result"
    }
   ],
   "source": [
    "from sklearn.ensemble import RandomForestClassifier\n",
    "\n",
    "forest_clf = RandomForestClassifier(random_state=42)\n",
    "scores = cross_val_score(forest_clf, X_train, y_train, cv=10)\n",
    "scores.mean()"
   ]
  },
  {
   "cell_type": "code",
   "execution_count": 40,
   "metadata": {},
   "outputs": [
    {
     "name": "stdout",
     "output_type": "stream",
     "text": [
      "Precision: 0.64%\n",
      "Recall: 0.56%\n"
     ]
    }
   ],
   "source": [
    "from sklearn.metrics import precision_score, recall_score\n",
    "forest_clf.fit(X_train, y_train)\n",
    "\n",
    "y_pred = forest_clf.predict(X_test)\n",
    "\n",
    "print(\"Precision: {:.2f}%\".format(precision_score(y_test, y_pred)))\n",
    "print(\"Recall: {:.2f}%\".format(recall_score(y_test, y_pred)))"
   ]
  },
  {
   "cell_type": "code",
   "execution_count": 41,
   "metadata": {},
   "outputs": [
    {
     "data": {
      "text/plain": [
       "array([[2582, 1773],\n",
       "       [1284, 2274]], dtype=int64)"
      ]
     },
     "execution_count": 41,
     "metadata": {},
     "output_type": "execute_result"
    }
   ],
   "source": [
    "from sklearn.metrics import confusion_matrix\n",
    "\n",
    "confusion_matrix(y_pred, y_test)\n"
   ]
  },
  {
   "cell_type": "code",
   "execution_count": 42,
   "metadata": {},
   "outputs": [
    {
     "name": "stderr",
     "output_type": "stream",
     "text": [
      "C:\\Users\\Pankaj\\Anaconda3\\lib\\site-packages\\sklearn\\linear_model\\stochastic_gradient.py:84: FutureWarning: max_iter and tol parameters have been added in <class 'sklearn.linear_model.stochastic_gradient.SGDClassifier'> in 0.19. If both are left unset, they default to max_iter=5 and tol=None. If tol is not None, max_iter defaults to max_iter=1000. From 0.21, default max_iter will be 1000, and default tol will be 1e-3.\n",
      "  \"and default tol will be 1e-3.\" % type(self), FutureWarning)\n"
     ]
    },
    {
     "data": {
      "text/plain": [
       "SGDClassifier(alpha=0.0001, average=False, class_weight=None, epsilon=0.1,\n",
       "       eta0=0.0, fit_intercept=True, l1_ratio=0.15,\n",
       "       learning_rate='optimal', loss='hinge', max_iter=5, n_iter=None,\n",
       "       n_jobs=1, penalty='l2', power_t=0.5, random_state=42, shuffle=True,\n",
       "       tol=None, verbose=0, warm_start=False)"
      ]
     },
     "execution_count": 42,
     "metadata": {},
     "output_type": "execute_result"
    }
   ],
   "source": [
    "from sklearn.linear_model import SGDClassifier\n",
    "\n",
    "sgd_clf = SGDClassifier(random_state=42)\n",
    "sgd_clf.fit(X_train, y_train)"
   ]
  },
  {
   "cell_type": "code",
   "execution_count": 43,
   "metadata": {},
   "outputs": [
    {
     "data": {
      "text/plain": [
       "array([ 0.63996265,  0.61935002,  0.64736645])"
      ]
     },
     "execution_count": 43,
     "metadata": {},
     "output_type": "execute_result"
    }
   ],
   "source": [
    "from sklearn.model_selection import cross_val_score\n",
    "cross_val_score(sgd_clf, X_train, y_train, cv=3, scoring=\"accuracy\")"
   ]
  },
  {
   "cell_type": "code",
   "execution_count": 44,
   "metadata": {
    "collapsed": true
   },
   "outputs": [],
   "source": [
    "from sklearn.model_selection import cross_val_predict\n",
    "\n",
    "y_train_pred = cross_val_predict(sgd_clf, X_train, y_train, cv=3)"
   ]
  },
  {
   "cell_type": "code",
   "execution_count": 45,
   "metadata": {},
   "outputs": [
    {
     "data": {
      "text/plain": [
       "array([[5369, 2687],\n",
       "       [3167, 4840]], dtype=int64)"
      ]
     },
     "execution_count": 45,
     "metadata": {},
     "output_type": "execute_result"
    }
   ],
   "source": [
    "from sklearn.metrics import confusion_matrix\n",
    "\n",
    "confusion_matrix(y_train, y_train_pred)"
   ]
  },
  {
   "cell_type": "code",
   "execution_count": 46,
   "metadata": {},
   "outputs": [
    {
     "data": {
      "text/plain": [
       "0.64301846685266373"
      ]
     },
     "execution_count": 46,
     "metadata": {},
     "output_type": "execute_result"
    }
   ],
   "source": [
    "from sklearn.metrics import precision_score, recall_score\n",
    "\n",
    "precision_score(y_train, y_train_pred)"
   ]
  },
  {
   "cell_type": "code",
   "execution_count": 47,
   "metadata": {},
   "outputs": [
    {
     "data": {
      "text/plain": [
       "0.6044710877981766"
      ]
     },
     "execution_count": 47,
     "metadata": {},
     "output_type": "execute_result"
    }
   ],
   "source": [
    "recall_score(y_train, y_train_pred)"
   ]
  },
  {
   "cell_type": "code",
   "execution_count": 48,
   "metadata": {},
   "outputs": [
    {
     "data": {
      "text/plain": [
       "0.6231492210634737"
      ]
     },
     "execution_count": 48,
     "metadata": {},
     "output_type": "execute_result"
    }
   ],
   "source": [
    "from sklearn.metrics import f1_score\n",
    "f1_score(y_train, y_train_pred)"
   ]
  },
  {
   "cell_type": "code",
   "execution_count": 49,
   "metadata": {
    "collapsed": true
   },
   "outputs": [],
   "source": [
    "y_scores = cross_val_predict(sgd_clf, X_train, y_train, cv=3,\n",
    "                             method=\"decision_function\")"
   ]
  },
  {
   "cell_type": "code",
   "execution_count": 50,
   "metadata": {},
   "outputs": [
    {
     "data": {
      "text/plain": [
       "array([[  0.        ,  23.04249064],\n",
       "       [  0.        ,  -4.00922889],\n",
       "       [  0.        , -34.90954606],\n",
       "       ..., \n",
       "       [  0.        , -20.65585837],\n",
       "       [  0.        ,  -0.07924144],\n",
       "       [  0.        ,  22.86246586]])"
      ]
     },
     "execution_count": 50,
     "metadata": {},
     "output_type": "execute_result"
    }
   ],
   "source": [
    "y_scores"
   ]
  },
  {
   "cell_type": "code",
   "execution_count": 51,
   "metadata": {
    "collapsed": true
   },
   "outputs": [],
   "source": [
    "if y_scores.ndim == 2:\n",
    "    y_scores = y_scores[:, 1]"
   ]
  },
  {
   "cell_type": "code",
   "execution_count": 59,
   "metadata": {},
   "outputs": [
    {
     "data": {
      "text/plain": [
       "83.436635754194555"
      ]
     },
     "execution_count": 59,
     "metadata": {},
     "output_type": "execute_result"
    }
   ],
   "source": [
    "y_scores.max()"
   ]
  },
  {
   "cell_type": "code",
   "execution_count": 52,
   "metadata": {},
   "outputs": [
    {
     "data": {
      "text/plain": [
       "array([ 23.04249064,  -4.00922889, -34.90954606, ..., -20.65585837,\n",
       "        -0.07924144,  22.86246586])"
      ]
     },
     "execution_count": 52,
     "metadata": {},
     "output_type": "execute_result"
    }
   ],
   "source": [
    "y_scores"
   ]
  },
  {
   "cell_type": "code",
   "execution_count": 67,
   "metadata": {
    "collapsed": true
   },
   "outputs": [],
   "source": [
    "from sklearn.metrics import precision_recall_curve\n",
    "\n",
    "precisions, recalls, thresholds = precision_recall_curve(y_train, y_scores)"
   ]
  },
  {
   "cell_type": "code",
   "execution_count": 68,
   "metadata": {},
   "outputs": [
    {
     "data": {
      "text/plain": [
       "15745"
      ]
     },
     "execution_count": 68,
     "metadata": {},
     "output_type": "execute_result"
    }
   ],
   "source": [
    "thresholds.size"
   ]
  },
  {
   "cell_type": "code",
   "execution_count": 70,
   "metadata": {},
   "outputs": [
    {
     "data": {
      "image/png": "[encoded data removed]",
      "text/plain": [
       "<matplotlib.figure.Figure at 0x29cb0204c88>"
      ]
     },
     "metadata": {},
     "output_type": "display_data"
    }
   ],
   "source": [
    "import matplotlib.pyplot as plt\n",
    "%matplotlib inline \n",
    "def plot_precision_recall_vs_threshold(precisions, recalls, thresholds):\n",
    "    plt.plot(thresholds, precisions[:-1], \"b--\", label=\"Precision\", linewidth=2)\n",
    "    plt.plot(thresholds, recalls[:-1], \"g-\", label=\"Recall\", linewidth=2)\n",
    "    plt.xlabel(\"Threshold\", fontsize=16)\n",
    "    plt.legend(loc=\"upper left\", fontsize=16)\n",
    "    plt.ylim([0, 1])\n",
    "\n",
    "plt.figure(figsize=(8, 4))\n",
    "plot_precision_recall_vs_threshold(precisions, recalls, thresholds)\n",
    "plt.xlim([-10, 10])\n",
    "\n",
    "plt.show()"
   ]
  },
  {
   "cell_type": "code",
   "execution_count": 71,
   "metadata": {},
   "outputs": [
    {
     "data": {
      "image/png": "[encoded data removed]",
      "text/plain": [
       "<matplotlib.figure.Figure at 0x29cb0275080>"
      ]
     },
     "metadata": {},
     "output_type": "display_data"
    }
   ],
   "source": [
    "def plot_precision_vs_recall(precisions, recalls):\n",
    "    plt.plot(recalls, precisions, \"b-\", linewidth=2)\n",
    "    plt.xlabel(\"Recall\", fontsize=16)\n",
    "    plt.ylabel(\"Precision\", fontsize=16)\n",
    "    plt.axis([0, 1, 0, 1])\n",
    "\n",
    "plt.figure(figsize=(8, 6))\n",
    "plot_precision_vs_recall(precisions, recalls)\n",
    "\n",
    "plt.show()"
   ]
  },
  {
   "cell_type": "code",
   "execution_count": 72,
   "metadata": {
    "collapsed": true
   },
   "outputs": [],
   "source": [
    "from sklearn.metrics import roc_curve\n",
    "\n",
    "fpr, tpr, thresholds = roc_curve(y_train, y_scores)"
   ]
  },
  {
   "cell_type": "code",
   "execution_count": 73,
   "metadata": {},
   "outputs": [
    {
     "data": {
      "image/png": "[encoded data removed]",
      "text/plain": [
       "<matplotlib.figure.Figure at 0x29cb01000f0>"
      ]
     },
     "metadata": {},
     "output_type": "display_data"
    }
   ],
   "source": [
    "def plot_roc_curve(fpr, tpr, label=None):\n",
    "    plt.plot(fpr, tpr, linewidth=2, label=label)\n",
    "    plt.plot([0, 1], [0, 1], 'k--')\n",
    "    plt.axis([0, 1, 0, 1])\n",
    "    plt.xlabel('False Positive Rate', fontsize=16)\n",
    "    plt.ylabel('True Positive Rate', fontsize=16)\n",
    "\n",
    "plt.figure(figsize=(8, 6))\n",
    "plot_roc_curve(fpr, tpr)\n",
    "#save_fig(\"roc_curve_plot\")\n",
    "plt.show()"
   ]
  },
  {
   "cell_type": "code",
   "execution_count": 74,
   "metadata": {},
   "outputs": [
    {
     "data": {
      "text/plain": [
       "0.69499766775570881"
      ]
     },
     "execution_count": 74,
     "metadata": {},
     "output_type": "execute_result"
    }
   ],
   "source": [
    "from sklearn.metrics import roc_auc_score\n",
    "\n",
    "roc_auc_score(y_train, y_scores)"
   ]
  },
  {
   "cell_type": "code",
   "execution_count": 75,
   "metadata": {
    "collapsed": true
   },
   "outputs": [],
   "source": [
    "from sklearn.ensemble import RandomForestClassifier\n",
    "forest_clf = RandomForestClassifier(random_state=42)\n",
    "y_probas_forest = cross_val_predict(forest_clf, X_train, y_train, cv=3,\n",
    "                                    method=\"predict_proba\")"
   ]
  },
  {
   "cell_type": "code",
   "execution_count": 76,
   "metadata": {
    "collapsed": true
   },
   "outputs": [],
   "source": [
    "y_scores_forest = y_probas_forest[:, 1] # score = proba of positive class\n",
    "fpr_forest, tpr_forest, thresholds_forest = roc_curve(y_train,y_scores_forest)"
   ]
  },
  {
   "cell_type": "code",
   "execution_count": 77,
   "metadata": {},
   "outputs": [
    {
     "data": {
      "image/png": "[encoded data removed]",
      "text/plain": [
       "<matplotlib.figure.Figure at 0x29cb00cae80>"
      ]
     },
     "metadata": {},
     "output_type": "display_data"
    }
   ],
   "source": [
    "plt.figure(figsize=(8, 6))\n",
    "plt.plot(fpr, tpr, \"b:\", linewidth=2, label=\"SGD\")\n",
    "plot_roc_curve(fpr_forest, tpr_forest, \"Random Forest\")\n",
    "plt.legend(loc=\"lower right\", fontsize=16)\n",
    "plt.show()"
   ]
  },
  {
   "cell_type": "code",
   "execution_count": 78,
   "metadata": {},
   "outputs": [
    {
     "name": "stdout",
     "output_type": "stream",
     "text": [
      "[CV]  ................................................................\n",
      "[CV] ....................... , score=0.6786181139122316, total=   2.9s\n",
      "[CV]  ................................................................\n"
     ]
    },
    {
     "name": "stderr",
     "output_type": "stream",
     "text": [
      "[Parallel(n_jobs=1)]: Done   1 out of   1 | elapsed:    2.9s remaining:    0.0s\n"
     ]
    },
    {
     "name": "stdout",
     "output_type": "stream",
     "text": [
      "[CV] ....................... , score=0.6759432200224131, total=   2.8s\n",
      "[CV]  ................................................................\n"
     ]
    },
    {
     "name": "stderr",
     "output_type": "stream",
     "text": [
      "[Parallel(n_jobs=1)]: Done   2 out of   2 | elapsed:    5.9s remaining:    0.0s\n"
     ]
    },
    {
     "name": "stdout",
     "output_type": "stream",
     "text": [
      "[CV] ....................... , score=0.6744490100859171, total=   3.0s\n"
     ]
    },
    {
     "name": "stderr",
     "output_type": "stream",
     "text": [
      "[Parallel(n_jobs=1)]: Done   3 out of   3 | elapsed:    8.9s finished\n"
     ]
    },
    {
     "data": {
      "text/plain": [
       "0.67633678134018727"
      ]
     },
     "execution_count": 78,
     "metadata": {},
     "output_type": "execute_result"
    }
   ],
   "source": [
    "from sklearn.linear_model import LogisticRegression\n",
    "from sklearn.model_selection import cross_val_score\n",
    "\n",
    "log_clf = LogisticRegression()\n",
    "score = cross_val_score(log_clf, X_train, y_train, cv=3, verbose=3)\n",
    "score.mean()"
   ]
  },
  {
   "cell_type": "code",
   "execution_count": null,
   "metadata": {
    "collapsed": true
   },
   "outputs": [],
   "source": []
  },
  {
   "cell_type": "code",
   "execution_count": 83,
   "metadata": {},
   "outputs": [
    {
     "data": {
      "text/plain": [
       "['site_name',\n",
       " 'posa_continent',\n",
       " 'user_location_country',\n",
       " 'user_location_region',\n",
       " 'user_location_city',\n",
       " 'user_id',\n",
       " 'is_mobile',\n",
       " 'is_package',\n",
       " 'channel',\n",
       " 'srch_adults_cnt',\n",
       " 'srch_children_cnt',\n",
       " 'srch_rm_cnt',\n",
       " 'srch_destination_id',\n",
       " 'srch_destination_type_id',\n",
       " 'cnt',\n",
       " 'hotel_continent',\n",
       " 'hotel_country',\n",
       " 'hotel_market',\n",
       " 'hotel_cluster',\n",
       " 'year',\n",
       " 'month',\n",
       " 'day',\n",
       " 'srch_ci_year',\n",
       " 'srch_ci_month',\n",
       " 'srch_ci_day',\n",
       " 'srch_co_year',\n",
       " 'srch_co_month',\n",
       " 'srch_co_day',\n",
       " 'stay',\n",
       " 'd1',\n",
       " 'd2',\n",
       " 'd3',\n",
       " 'd4',\n",
       " 'd5',\n",
       " 'd6',\n",
       " 'd7',\n",
       " 'd8',\n",
       " 'd9',\n",
       " 'd10',\n",
       " 'd11',\n",
       " 'd12',\n",
       " 'd13',\n",
       " 'd14',\n",
       " 'd15',\n",
       " 'd16',\n",
       " 'd17',\n",
       " 'd18',\n",
       " 'd19',\n",
       " 'd20',\n",
       " 'd21',\n",
       " 'd22',\n",
       " 'd23',\n",
       " 'd24',\n",
       " 'd25',\n",
       " 'd26',\n",
       " 'd27',\n",
       " 'd28',\n",
       " 'd29',\n",
       " 'd30',\n",
       " 'd31',\n",
       " 'd32',\n",
       " 'd33',\n",
       " 'd34',\n",
       " 'd35',\n",
       " 'd36',\n",
       " 'd37',\n",
       " 'd38',\n",
       " 'd39',\n",
       " 'd40',\n",
       " 'd41',\n",
       " 'd42',\n",
       " 'd43',\n",
       " 'd44',\n",
       " 'd45',\n",
       " 'd46',\n",
       " 'd47',\n",
       " 'd48',\n",
       " 'd49',\n",
       " 'd50',\n",
       " 'd51',\n",
       " 'd52',\n",
       " 'd53',\n",
       " 'd54',\n",
       " 'd55',\n",
       " 'd56',\n",
       " 'd57',\n",
       " 'd58',\n",
       " 'd59',\n",
       " 'd60',\n",
       " 'd61',\n",
       " 'd62',\n",
       " 'd63',\n",
       " 'd64',\n",
       " 'd65',\n",
       " 'd66',\n",
       " 'd67',\n",
       " 'd68',\n",
       " 'd69',\n",
       " 'd70',\n",
       " 'd71',\n",
       " 'd72',\n",
       " 'd73',\n",
       " 'd74',\n",
       " 'd75',\n",
       " 'd76',\n",
       " 'd77',\n",
       " 'd78',\n",
       " 'd79',\n",
       " 'd80',\n",
       " 'd81',\n",
       " 'd82',\n",
       " 'd83',\n",
       " 'd84',\n",
       " 'd85',\n",
       " 'd86',\n",
       " 'd87',\n",
       " 'd88',\n",
       " 'd89',\n",
       " 'd90',\n",
       " 'd91',\n",
       " 'd92',\n",
       " 'd93',\n",
       " 'd94',\n",
       " 'd95',\n",
       " 'd96',\n",
       " 'd97',\n",
       " 'd98',\n",
       " 'd99',\n",
       " 'd100',\n",
       " 'd101',\n",
       " 'd102',\n",
       " 'd103',\n",
       " 'd104',\n",
       " 'd105',\n",
       " 'd106',\n",
       " 'd107',\n",
       " 'd108',\n",
       " 'd109',\n",
       " 'd110',\n",
       " 'd111',\n",
       " 'd112',\n",
       " 'd113',\n",
       " 'd114',\n",
       " 'd115',\n",
       " 'd116',\n",
       " 'd117',\n",
       " 'd118',\n",
       " 'd119',\n",
       " 'd120',\n",
       " 'd121',\n",
       " 'd122',\n",
       " 'd123',\n",
       " 'd124',\n",
       " 'd125',\n",
       " 'd126',\n",
       " 'd127',\n",
       " 'd128',\n",
       " 'd129',\n",
       " 'd130',\n",
       " 'd131',\n",
       " 'd132',\n",
       " 'd133',\n",
       " 'd134',\n",
       " 'd135',\n",
       " 'd136',\n",
       " 'd137',\n",
       " 'd138',\n",
       " 'd139',\n",
       " 'd140',\n",
       " 'd141',\n",
       " 'd142',\n",
       " 'd143',\n",
       " 'd144',\n",
       " 'd145',\n",
       " 'd146',\n",
       " 'd147',\n",
       " 'd148',\n",
       " 'd149']"
      ]
     },
     "execution_count": 83,
     "metadata": {},
     "output_type": "execute_result"
    }
   ],
   "source": [
    "num_attribs = list(X_orig)\n",
    "feature_importances = grid_search.best_estimator_.feature_importances_\n",
    "feature_importances"
   ]
  },
  {
   "cell_type": "markdown",
   "metadata": {},
   "source": [
    "# Knn Classifier"
   ]
  },
  {
   "cell_type": "code",
   "execution_count": 131,
   "metadata": {},
   "outputs": [
    {
     "data": {
      "text/plain": [
       "0.58220601906922886"
      ]
     },
     "execution_count": 131,
     "metadata": {},
     "output_type": "execute_result"
    }
   ],
   "source": [
    "from sklearn.neighbors import KNeighborsClassifier\n",
    "\n",
    "\n",
    "knn_clf = KNeighborsClassifier()\n",
    "scores = cross_val_score(knn_clf, X_train, y_train, cv=10)\n",
    "scores.mean()"
   ]
  },
  {
   "cell_type": "markdown",
   "metadata": {},
   "source": [
    "\n",
    "# Random Forest"
   ]
  },
  {
   "cell_type": "code",
   "execution_count": 84,
   "metadata": {},
   "outputs": [
    {
     "data": {
      "text/plain": [
       "0.62989546771619054"
      ]
     },
     "execution_count": 84,
     "metadata": {},
     "output_type": "execute_result"
    }
   ],
   "source": [
    "from sklearn.ensemble import RandomForestClassifier\n",
    "\n",
    "forest_clf = RandomForestClassifier(random_state=42)\n",
    "scores = cross_val_score(forest_clf, X_train, y_train, cv=10)\n",
    "scores.mean()"
   ]
  },
  {
   "cell_type": "code",
   "execution_count": 87,
   "metadata": {},
   "outputs": [
    {
     "data": {
      "text/plain": [
       "GridSearchCV(cv=5, error_score='raise',\n",
       "       estimator=RandomForestClassifier(bootstrap=True, class_weight=None, criterion='gini',\n",
       "            max_depth=None, max_features='auto', max_leaf_nodes=None,\n",
       "            min_impurity_decrease=0.0, min_impurity_split=None,\n",
       "            min_samples_leaf=1, min_samples_split=2,\n",
       "            min_weight_fraction_leaf=0.0, n_estimators=10, n_jobs=1,\n",
       "            oob_score=False, random_state=42, verbose=0, warm_start=False),\n",
       "       fit_params=None, iid=True, n_jobs=1,\n",
       "       param_grid=[{'n_estimators': [3, 10, 30], 'max_features': [2, 4, 6, 8]}, {'bootstrap': [False], 'n_estimators': [3, 10], 'max_features': [2, 3, 4]}],\n",
       "       pre_dispatch='2*n_jobs', refit=True, return_train_score=True,\n",
       "       scoring='accuracy', verbose=0)"
      ]
     },
     "execution_count": 87,
     "metadata": {},
     "output_type": "execute_result"
    }
   ],
   "source": [
    "from sklearn.model_selection import GridSearchCV\n",
    "\n",
    "param_grid = [\n",
    "    \n",
    "    {'n_estimators': [3, 10, 30], 'max_features': [2, 4, 6, 8]},\n",
    "   \n",
    "    {'bootstrap': [False], 'n_estimators': [3, 10], 'max_features': [2, 3, 4]},\n",
    "  ]\n",
    "\n",
    "forest_reg = RandomForestClassifier(random_state=42)\n",
    "\n",
    "grid_search = GridSearchCV(forest_clf, param_grid, cv=5,\n",
    "                           scoring='accuracy')\n",
    "grid_search.fit(X_train, y_train)"
   ]
  },
  {
   "cell_type": "code",
   "execution_count": 88,
   "metadata": {},
   "outputs": [
    {
     "data": {
      "text/plain": [
       "{'max_features': 8, 'n_estimators': 30}"
      ]
     },
     "execution_count": 88,
     "metadata": {},
     "output_type": "execute_result"
    }
   ],
   "source": [
    "grid_search.best_params_"
   ]
  },
  {
   "cell_type": "code",
   "execution_count": 89,
   "metadata": {},
   "outputs": [
    {
     "data": {
      "text/plain": [
       "RandomForestClassifier(bootstrap=True, class_weight=None, criterion='gini',\n",
       "            max_depth=None, max_features=8, max_leaf_nodes=None,\n",
       "            min_impurity_decrease=0.0, min_impurity_split=None,\n",
       "            min_samples_leaf=1, min_samples_split=2,\n",
       "            min_weight_fraction_leaf=0.0, n_estimators=30, n_jobs=1,\n",
       "            oob_score=False, random_state=42, verbose=0, warm_start=False)"
      ]
     },
     "execution_count": 89,
     "metadata": {},
     "output_type": "execute_result"
    }
   ],
   "source": [
    "grid_search.best_estimator_"
   ]
  },
  {
   "cell_type": "code",
   "execution_count": 92,
   "metadata": {},
   "outputs": [
    {
     "data": {
      "text/plain": [
       "array([ 0.01401286,  0.00736971,  0.01788446,  0.03199815,  0.03663768,\n",
       "        0.03880025,  0.00636609,  0.00833997,  0.01804974,  0.0182396 ,\n",
       "        0.0096251 ,  0.00449481,  0.00402135,  0.00139435,  0.06181839,\n",
       "        0.00206558,  0.00277749,  0.00458379,  0.03298468,  0.00779807,\n",
       "        0.02833952,  0.03370157,  0.01139546,  0.02851456,  0.03412148,\n",
       "        0.01206152,  0.02742656,  0.0339214 ,  0.03377034,  0.00310356,\n",
       "        0.0025821 ,  0.00215256,  0.00236951,  0.00300463,  0.00333888,\n",
       "        0.00282134,  0.00291247,  0.00602925,  0.00383415,  0.003328  ,\n",
       "        0.00155397,  0.00323316,  0.00355682,  0.00197653,  0.00473185,\n",
       "        0.00484174,  0.00251711,  0.00222195,  0.00368442,  0.00285166,\n",
       "        0.00259795,  0.00165935,  0.00264453,  0.00189385,  0.00374338,\n",
       "        0.0025499 ,  0.00240519,  0.00395184,  0.00474964,  0.00156026,\n",
       "        0.00231582,  0.00398933,  0.00295189,  0.00343394,  0.00279192,\n",
       "        0.00324902,  0.00375359,  0.00227071,  0.00333046,  0.00366422,\n",
       "        0.00292712,  0.00344233,  0.00276048,  0.00269412,  0.00292886,\n",
       "        0.00249901,  0.00273997,  0.00298119,  0.00302463,  0.00324021,\n",
       "        0.0023023 ,  0.00461636,  0.00193657,  0.00338099,  0.00327713,\n",
       "        0.00242111,  0.00305427,  0.00287173,  0.00191756,  0.00281064,\n",
       "        0.00261645,  0.00193357,  0.0019977 ,  0.00195808,  0.00250831,\n",
       "        0.00209913,  0.00235301,  0.0030755 ,  0.00156469,  0.00271628,\n",
       "        0.00204176,  0.00308687,  0.00327623,  0.00366762,  0.00230431,\n",
       "        0.00333852,  0.00262869,  0.00339069,  0.00341216,  0.00256141,\n",
       "        0.00238448,  0.00302495,  0.00344966,  0.00249149,  0.00205224,\n",
       "        0.00292295,  0.00273508,  0.00266115,  0.00218459,  0.00444758,\n",
       "        0.00283637,  0.00313197,  0.00312592,  0.00239594,  0.00381018,\n",
       "        0.00250165,  0.00222438,  0.00170033,  0.00265967,  0.002789  ,\n",
       "        0.00290736,  0.00480589,  0.00231126,  0.00249166,  0.00216181,\n",
       "        0.0025255 ,  0.00326288,  0.00294604,  0.00378967,  0.00260679,\n",
       "        0.00266507,  0.00194163,  0.00295656,  0.0039798 ,  0.00216134,\n",
       "        0.00211005,  0.0019498 ,  0.00280734,  0.00346977,  0.00393844,\n",
       "        0.00390938,  0.00179264,  0.00265785,  0.00248472,  0.00253854,\n",
       "        0.0026213 ,  0.00401018,  0.00223842,  0.00355864,  0.0030879 ,\n",
       "        0.00314548,  0.00252552,  0.00226723,  0.00146717,  0.00556545,\n",
       "        0.00381325,  0.00202976,  0.00340427,  0.00322696,  0.00262664,\n",
       "        0.00208963,  0.00239937,  0.00285044,  0.00242653,  0.00240014,\n",
       "        0.00177667,  0.00141665,  0.00332649])"
      ]
     },
     "execution_count": 92,
     "metadata": {},
     "output_type": "execute_result"
    }
   ],
   "source": [
    "feature_importances = grid_search.best_estimator_.feature_importances_\n",
    "feature_importances"
   ]
  },
  {
   "cell_type": "code",
   "execution_count": 94,
   "metadata": {},
   "outputs": [
    {
     "data": {
      "text/plain": [
       "[(0.061818387845950076, 'cnt'),\n",
       " (0.038800248437541957, 'user_id'),\n",
       " (0.036637681929547042, 'user_location_city'),\n",
       " (0.034121476250294311, 'srch_ci_day'),\n",
       " (0.033921398532188791, 'srch_co_day'),\n",
       " (0.033770344220660872, 'stay'),\n",
       " (0.033701566863250251, 'day'),\n",
       " (0.032984675798699258, 'hotel_cluster'),\n",
       " (0.031998147387975406, 'user_location_region'),\n",
       " (0.028514561565604276, 'srch_ci_month'),\n",
       " (0.028339524591313472, 'month'),\n",
       " (0.027426564169108429, 'srch_co_month'),\n",
       " (0.018239599925569849, 'srch_adults_cnt'),\n",
       " (0.018049739427389192, 'channel'),\n",
       " (0.017884460444129266, 'user_location_country'),\n",
       " (0.014012855901172325, 'site_name'),\n",
       " (0.012061518326909883, 'srch_co_year'),\n",
       " (0.011395456668661224, 'srch_ci_year'),\n",
       " (0.0096251016873895, 'srch_children_cnt'),\n",
       " (0.0083399712269082646, 'is_package'),\n",
       " (0.0077980736918524052, 'year'),\n",
       " (0.0073697149025851042, 'posa_continent'),\n",
       " (0.0063660902820782449, 'is_mobile'),\n",
       " (0.0060292535801565192, 'd9'),\n",
       " (0.0055654452746641582, 'd136'),\n",
       " (0.0048417369127348462, 'd17'),\n",
       " (0.0048058875350080717, 'd103'),\n",
       " (0.0047496379554191189, 'd30'),\n",
       " (0.0047318495177617569, 'd16'),\n",
       " (0.0046163596427279824, 'd53'),\n",
       " (0.004583792228033557, 'hotel_market'),\n",
       " (0.0044948143137054529, 'srch_rm_cnt'),\n",
       " (0.0044475839644083168, 'd91'),\n",
       " (0.0040213474088465779, 'srch_destination_id'),\n",
       " (0.0040101785936790127, 'd128'),\n",
       " (0.0039893251644775689, 'd33'),\n",
       " (0.0039798001729702669, 'd115'),\n",
       " (0.0039518414006523336, 'd29'),\n",
       " (0.0039384366021444584, 'd121'),\n",
       " (0.0039093847212055529, 'd122'),\n",
       " (0.0038341537725264381, 'd10'),\n",
       " (0.0038132494794681595, 'd137'),\n",
       " (0.0038101806207442631, 'd96'),\n",
       " (0.0037896708556491433, 'd110'),\n",
       " (0.0037535897329458718, 'd38'),\n",
       " (0.0037433824704058904, 'd26'),\n",
       " (0.0036844230544060743, 'd20'),\n",
       " (0.0036676211449947148, 'd75'),\n",
       " (0.0036642241405555318, 'd41'),\n",
       " (0.0035586384911668332, 'd130'),\n",
       " (0.003556821525519489, 'd14'),\n",
       " (0.003469773718393695, 'd120'),\n",
       " (0.0034496568122224466, 'd84'),\n",
       " (0.0034423344359157167, 'd43'),\n",
       " (0.0034339431646404277, 'd35'),\n",
       " (0.0034121563933575952, 'd80'),\n",
       " (0.0034042687870869132, 'd139'),\n",
       " (0.0033906925268038421, 'd79'),\n",
       " (0.0033809880235523772, 'd55'),\n",
       " (0.0033388820902378225, 'd6'),\n",
       " (0.0033385203481761461, 'd77'),\n",
       " (0.0033304627945844262, 'd40'),\n",
       " (0.0033279971696019151, 'd11'),\n",
       " (0.0033264872749485534, 'd149'),\n",
       " (0.0032771320355993263, 'd56'),\n",
       " (0.0032762303440425438, 'd74'),\n",
       " (0.0032628806736319403, 'd108'),\n",
       " (0.0032490150840254971, 'd37'),\n",
       " (0.00324021049576298, 'd51'),\n",
       " (0.0032331576846998428, 'd13'),\n",
       " (0.0032269640024097253, 'd140'),\n",
       " (0.0031454839551775752, 'd132'),\n",
       " (0.0031319746827536705, 'd93'),\n",
       " (0.0031259207066383298, 'd94'),\n",
       " (0.0031035607464976237, 'd1'),\n",
       " (0.003087899826694461, 'd131'),\n",
       " (0.0030868748054808681, 'd73'),\n",
       " (0.0030755006816268397, 'd69'),\n",
       " (0.0030542672787276541, 'd58'),\n",
       " (0.0030249473269667385, 'd83'),\n",
       " (0.0030246259913222174, 'd50'),\n",
       " (0.0030046328174086869, 'd5'),\n",
       " (0.002981192335140069, 'd49'),\n",
       " (0.0029565623281249064, 'd114'),\n",
       " (0.0029518940103621049, 'd34'),\n",
       " (0.0029460410130147312, 'd109'),\n",
       " (0.002928860434953961, 'd46'),\n",
       " (0.0029271156799841134, 'd42'),\n",
       " (0.0029229517836603966, 'd87'),\n",
       " (0.002912466099445028, 'd8'),\n",
       " (0.0029073571507064397, 'd102'),\n",
       " (0.002871728311686425, 'd59'),\n",
       " (0.0028516570217945732, 'd21'),\n",
       " (0.0028504406511781393, 'd144'),\n",
       " (0.0028363695546470983, 'd92'),\n",
       " (0.0028213376261135279, 'd7'),\n",
       " (0.0028106356531126938, 'd61'),\n",
       " (0.0028073374425160139, 'd119'),\n",
       " (0.002791918883752078, 'd36'),\n",
       " (0.0027890041021778013, 'd101'),\n",
       " (0.0027774886832215981, 'hotel_country'),\n",
       " (0.0027604814977550737, 'd44'),\n",
       " (0.0027399722519058961, 'd48'),\n",
       " (0.0027350822682803795, 'd88'),\n",
       " (0.0027162791860806121, 'd71'),\n",
       " (0.0026941249913449658, 'd45'),\n",
       " (0.0026650657661037832, 'd112'),\n",
       " (0.0026611490323687806, 'd89'),\n",
       " (0.0026596733343407903, 'd100'),\n",
       " (0.0026578456524529916, 'd124'),\n",
       " (0.0026445302202664236, 'd24'),\n",
       " (0.0026286947819219261, 'd78'),\n",
       " (0.0026266449825050235, 'd141'),\n",
       " (0.0026213047723613239, 'd127'),\n",
       " (0.0026164484110919569, 'd62'),\n",
       " (0.002606785296996224, 'd111'),\n",
       " (0.0025979453433226845, 'd22'),\n",
       " (0.0025821009740063234, 'd2'),\n",
       " (0.0025614080454752055, 'd81'),\n",
       " (0.0025499025670990268, 'd27'),\n",
       " (0.0025385378598741589, 'd126'),\n",
       " (0.0025255164844593951, 'd133'),\n",
       " (0.0025254954207758703, 'd107'),\n",
       " (0.0025171072867026714, 'd18'),\n",
       " (0.002508309305089594, 'd66'),\n",
       " (0.0025016539555824885, 'd97'),\n",
       " (0.0024990096550970746, 'd47'),\n",
       " (0.0024916570701279555, 'd105'),\n",
       " (0.002491492075634994, 'd85'),\n",
       " (0.0024847177453086364, 'd125'),\n",
       " (0.0024265304821353257, 'd145'),\n",
       " (0.0024211140299756542, 'd57'),\n",
       " (0.0024051929033459115, 'd28'),\n",
       " (0.0024001435607709093, 'd146'),\n",
       " (0.0023993677312528147, 'd143'),\n",
       " (0.0023959396277402874, 'd95'),\n",
       " (0.0023844793350312299, 'd82'),\n",
       " (0.0023695117668460709, 'd4'),\n",
       " (0.0023530096504471129, 'd68'),\n",
       " (0.0023158172361656547, 'd32'),\n",
       " (0.0023112571187100636, 'd104'),\n",
       " (0.0023043119531119191, 'd76'),\n",
       " (0.0023022951191249597, 'd52'),\n",
       " (0.0022707103970006333, 'd39'),\n",
       " (0.0022672281692862634, 'd134'),\n",
       " (0.0022384171649299841, 'd129'),\n",
       " (0.0022243763214200131, 'd98'),\n",
       " (0.0022219497648924232, 'd19'),\n",
       " (0.0021845922811670219, 'd90'),\n",
       " (0.0021618053843897324, 'd106'),\n",
       " (0.0021613374547473714, 'd116'),\n",
       " (0.0021525567478963528, 'd3'),\n",
       " (0.0021100538609382592, 'd117'),\n",
       " (0.0020991280897512819, 'd67'),\n",
       " (0.0020896316165529383, 'd142'),\n",
       " (0.0020655787221065692, 'hotel_continent'),\n",
       " (0.0020522372319439161, 'd86'),\n",
       " (0.0020417647222533623, 'd72'),\n",
       " (0.0020297643497298365, 'd138'),\n",
       " (0.0019977020442043841, 'd64'),\n",
       " (0.0019765317254851621, 'd15'),\n",
       " (0.0019580773710642279, 'd65'),\n",
       " (0.0019497971483225019, 'd118'),\n",
       " (0.0019416349601779344, 'd113'),\n",
       " (0.0019365739309457097, 'd54'),\n",
       " (0.0019335699070303477, 'd63'),\n",
       " (0.0019175618578943724, 'd60'),\n",
       " (0.001893849501224986, 'd25'),\n",
       " (0.0017926434009578548, 'd123'),\n",
       " (0.0017766700390198832, 'd147'),\n",
       " (0.0017003277044684959, 'd99'),\n",
       " (0.0016593455934599062, 'd23'),\n",
       " (0.0015646892186495097, 'd70'),\n",
       " (0.0015602568692781502, 'd31'),\n",
       " (0.0015539693849448881, 'd12'),\n",
       " (0.0014671749123566548, 'd135'),\n",
       " (0.0014166473233384247, 'd148'),\n",
       " (0.0013943462808430212, 'srch_destination_type_id')]"
      ]
     },
     "execution_count": 94,
     "metadata": {},
     "output_type": "execute_result"
    }
   ],
   "source": [
    "sorted(zip(feature_importances, num_attribs), reverse=True)"
   ]
  },
  {
   "cell_type": "code",
   "execution_count": 95,
   "metadata": {},
   "outputs": [
    {
     "data": {
      "text/plain": [
       "RandomizedSearchCV(cv=5, error_score='raise',\n",
       "          estimator=RandomForestClassifier(bootstrap=True, class_weight=None, criterion='gini',\n",
       "            max_depth=None, max_features='auto', max_leaf_nodes=None,\n",
       "            min_impurity_decrease=0.0, min_impurity_split=None,\n",
       "            min_samples_leaf=1, min_samples_split=2,\n",
       "            min_weight_fraction_leaf=0.0, n_estimators=10, n_jobs=1,\n",
       "            oob_score=False, random_state=42, verbose=0, warm_start=False),\n",
       "          fit_params=None, iid=True, n_iter=10, n_jobs=1,\n",
       "          param_distributions={'n_estimators': <scipy.stats._distn_infrastructure.rv_frozen object at 0x0000029CB04CA0B8>, 'max_features': <scipy.stats._distn_infrastructure.rv_frozen object at 0x0000029CB04CA320>},\n",
       "          pre_dispatch='2*n_jobs', random_state=42, refit=True,\n",
       "          return_train_score=True, scoring='accuracy', verbose=0)"
      ]
     },
     "execution_count": 95,
     "metadata": {},
     "output_type": "execute_result"
    }
   ],
   "source": [
    "from sklearn.model_selection import RandomizedSearchCV\n",
    "from scipy.stats import randint\n",
    "\n",
    "param_distribs = {\n",
    "        'n_estimators': randint(low=1, high=200),\n",
    "        'max_features': randint(low=1, high=50),\n",
    "    }\n",
    "\n",
    "forest_cla = RandomForestClassifier(random_state=42)\n",
    "rnd_search = RandomizedSearchCV(forest_cla, param_distributions=param_distribs,\n",
    "                                n_iter=10, cv=5, scoring='accuracy', random_state=42)\n",
    "rnd_search.fit(X_train, y_train)"
   ]
  },
  {
   "cell_type": "code",
   "execution_count": 100,
   "metadata": {},
   "outputs": [
    {
     "name": "stdout",
     "output_type": "stream",
     "text": [
      "0.66923986802 {'max_features': 39, 'n_estimators': 180}\n",
      "0.652555562473 {'max_features': 29, 'n_estimators': 15}\n",
      "0.667060947519 {'max_features': 43, 'n_estimators': 72}\n",
      "0.663450164975 {'max_features': 21, 'n_estimators': 103}\n",
      "0.66363692959 {'max_features': 19, 'n_estimators': 75}\n",
      "0.654983502459 {'max_features': 11, 'n_estimators': 88}\n",
      "0.667870260848 {'max_features': 36, 'n_estimators': 104}\n",
      "0.665442320862 {'max_features': 24, 'n_estimators': 131}\n",
      "0.66276536139 {'max_features': 22, 'n_estimators': 53}\n",
      "0.606611467347 {'max_features': 2, 'n_estimators': 88}\n"
     ]
    }
   ],
   "source": [
    "cvres = rnd_search.cv_results_\n",
    "for mean_score, params in zip(cvres[\"mean_test_score\"], cvres[\"params\"]):\n",
    "    print(mean_score, params)\n"
   ]
  },
  {
   "cell_type": "code",
   "execution_count": 101,
   "metadata": {
    "collapsed": true
   },
   "outputs": [],
   "source": [
    "#fit Random forest again w"
   ]
  },
  {
   "cell_type": "code",
   "execution_count": 102,
   "metadata": {},
   "outputs": [
    {
     "data": {
      "text/plain": [
       "0.67042204275609008"
      ]
     },
     "execution_count": 102,
     "metadata": {},
     "output_type": "execute_result"
    }
   ],
   "source": [
    "from sklearn.ensemble import RandomForestClassifier\n",
    "\n",
    "forest_clf = RandomForestClassifier(random_state=42,max_features=39,n_estimators=100)\n",
    "scores = cross_val_score(forest_clf, X_train, y_train, cv=5)\n",
    "scores.mean()"
   ]
  },
  {
   "cell_type": "markdown",
   "metadata": {},
   "source": [
    "# VOTING CLASSIFIER , hard and soft"
   ]
  },
  {
   "cell_type": "code",
   "execution_count": 104,
   "metadata": {},
   "outputs": [
    {
     "data": {
      "text/plain": [
       "VotingClassifier(estimators=[('lr', LogisticRegression(C=1.0, class_weight=None, dual=False, fit_intercept=True,\n",
       "          intercept_scaling=1, max_iter=100, multi_class='ovr', n_jobs=1,\n",
       "          penalty='l2', random_state=42, solver='liblinear', tol=0.0001,\n",
       "          verbose=0, warm_start=False)), ('rf', RandomFor...f',\n",
       "  max_iter=-1, probability=False, random_state=42, shrinking=True,\n",
       "  tol=0.001, verbose=False))],\n",
       "         flatten_transform=None, n_jobs=1, voting='hard', weights=None)"
      ]
     },
     "execution_count": 104,
     "metadata": {},
     "output_type": "execute_result"
    }
   ],
   "source": [
    "from sklearn.ensemble import RandomForestClassifier\n",
    "from sklearn.ensemble import VotingClassifier\n",
    "from sklearn.linear_model import LogisticRegression\n",
    "from sklearn.svm import SVC\n",
    "\n",
    "log_clf = LogisticRegression(random_state=42)\n",
    "rnd_clf = RandomForestClassifier(random_state=42)\n",
    "svm_clf = SVC(random_state=42)\n",
    "\n",
    "voting_clf = VotingClassifier(\n",
    "    estimators=[('lr', log_clf), ('rf', rnd_clf), ('svc', svm_clf)],\n",
    "    voting='hard')\n",
    "voting_clf.fit(X_train, y_train)"
   ]
  },
  {
   "cell_type": "code",
   "execution_count": 105,
   "metadata": {},
   "outputs": [
    {
     "name": "stdout",
     "output_type": "stream",
     "text": [
      "LogisticRegression 0.674838872741\n",
      "RandomForestClassifier 0.613673701504\n",
      "SVC 0.669278402629\n",
      "VotingClassifier 0.672185012006\n"
     ]
    }
   ],
   "source": [
    "from sklearn.metrics import accuracy_score\n",
    "\n",
    "for clf in (log_clf, rnd_clf, svm_clf, voting_clf):\n",
    "    clf.fit(X_train, y_train)\n",
    "    y_pred = clf.predict(X_test)\n",
    "    print(clf.__class__.__name__, accuracy_score(y_test, y_pred))"
   ]
  },
  {
   "cell_type": "code",
   "execution_count": 106,
   "metadata": {},
   "outputs": [
    {
     "data": {
      "text/plain": [
       "VotingClassifier(estimators=[('lr', LogisticRegression(C=1.0, class_weight=None, dual=False, fit_intercept=True,\n",
       "          intercept_scaling=1, max_iter=100, multi_class='ovr', n_jobs=1,\n",
       "          penalty='l2', random_state=42, solver='liblinear', tol=0.0001,\n",
       "          verbose=0, warm_start=False)), ('rf', RandomFor...bf',\n",
       "  max_iter=-1, probability=True, random_state=42, shrinking=True,\n",
       "  tol=0.001, verbose=False))],\n",
       "         flatten_transform=None, n_jobs=1, voting='soft', weights=None)"
      ]
     },
     "execution_count": 106,
     "metadata": {},
     "output_type": "execute_result"
    }
   ],
   "source": [
    "log_clf = LogisticRegression(random_state=42)\n",
    "rnd_clf = RandomForestClassifier(random_state=42)\n",
    "svm_clf = SVC(probability=True, random_state=42)\n",
    "\n",
    "voting_clf = VotingClassifier(\n",
    "    estimators=[('lr', log_clf), ('rf', rnd_clf), ('svc', svm_clf)],\n",
    "    voting='soft')\n",
    "voting_clf.fit(X_train, y_train)"
   ]
  },
  {
   "cell_type": "code",
   "execution_count": 107,
   "metadata": {},
   "outputs": [
    {
     "name": "stdout",
     "output_type": "stream",
     "text": [
      "LogisticRegression 0.674838872741\n",
      "RandomForestClassifier 0.613673701504\n",
      "SVC 0.669278402629\n",
      "VotingClassifier 0.670163022874\n"
     ]
    }
   ],
   "source": [
    "from sklearn.metrics import accuracy_score\n",
    "\n",
    "for clf in (log_clf, rnd_clf, svm_clf, voting_clf):\n",
    "    clf.fit(X_train, y_train)\n",
    "    y_pred = clf.predict(X_test)\n",
    "    print(clf.__class__.__name__, accuracy_score(y_test, y_pred))"
   ]
  },
  {
   "cell_type": "markdown",
   "metadata": {},
   "source": [
    "# Adaboost"
   ]
  },
  {
   "cell_type": "code",
   "execution_count": 111,
   "metadata": {},
   "outputs": [
    {
     "data": {
      "text/plain": [
       "AdaBoostClassifier(algorithm='SAMME.R',\n",
       "          base_estimator=DecisionTreeClassifier(class_weight=None, criterion='gini', max_depth=2,\n",
       "            max_features=None, max_leaf_nodes=None,\n",
       "            min_impurity_decrease=0.0, min_impurity_split=None,\n",
       "            min_samples_leaf=1, min_samples_split=2,\n",
       "            min_weight_fraction_leaf=0.0, presort=False, random_state=None,\n",
       "            splitter='best'),\n",
       "          learning_rate=0.5, n_estimators=300, random_state=42)"
      ]
     },
     "execution_count": 111,
     "metadata": {},
     "output_type": "execute_result"
    }
   ],
   "source": [
    "from sklearn.ensemble import AdaBoostClassifier\n",
    "from sklearn.tree import DecisionTreeClassifier\n",
    "\n",
    "ada_clf = AdaBoostClassifier(\n",
    "    DecisionTreeClassifier(max_depth=2), n_estimators=300,\n",
    "    algorithm=\"SAMME.R\", learning_rate=0.5, random_state=42)\n",
    "ada_clf.fit(X_train, y_train)"
   ]
  },
  {
   "cell_type": "code",
   "execution_count": 112,
   "metadata": {},
   "outputs": [
    {
     "data": {
      "text/plain": [
       "0.67142676608113228"
      ]
     },
     "execution_count": 112,
     "metadata": {},
     "output_type": "execute_result"
    }
   ],
   "source": [
    "y_pred = ada_clf.predict(X_test)\n",
    "accuracy_score(y_test, y_pred)"
   ]
  },
  {
   "cell_type": "markdown",
   "metadata": {},
   "source": [
    "# Gradient Boosting"
   ]
  },
  {
   "cell_type": "code",
   "execution_count": 113,
   "metadata": {},
   "outputs": [
    {
     "data": {
      "text/plain": [
       "GradientBoostingClassifier(criterion='friedman_mse', init=None,\n",
       "              learning_rate=0.1, loss='deviance', max_depth=2,\n",
       "              max_features=None, max_leaf_nodes=None,\n",
       "              min_impurity_decrease=0.0, min_impurity_split=None,\n",
       "              min_samples_leaf=1, min_samples_split=2,\n",
       "              min_weight_fraction_leaf=0.0, n_estimators=200,\n",
       "              presort='auto', random_state=42, subsample=1.0, verbose=0,\n",
       "              warm_start=False)"
      ]
     },
     "execution_count": 113,
     "metadata": {},
     "output_type": "execute_result"
    }
   ],
   "source": [
    "from sklearn.ensemble import GradientBoostingClassifier\n",
    "\n",
    "gbrt = GradientBoostingClassifier(max_depth=2, n_estimators=200, learning_rate=0.1, random_state=42)\n",
    "gbrt.fit(X_train, y_train)"
   ]
  },
  {
   "cell_type": "code",
   "execution_count": 114,
   "metadata": {},
   "outputs": [
    {
     "data": {
      "text/plain": [
       "0.689245545305194"
      ]
     },
     "execution_count": 114,
     "metadata": {},
     "output_type": "execute_result"
    }
   ],
   "source": [
    "y_pred = gbrt.predict(X_test)\n",
    "accuracy_score(y_test, y_pred)"
   ]
  },
  {
   "cell_type": "markdown",
   "metadata": {},
   "source": [
    "# ANN"
   ]
  },
  {
   "cell_type": "code",
   "execution_count": 119,
   "metadata": {},
   "outputs": [
    {
     "name": "stderr",
     "output_type": "stream",
     "text": [
      "Using TensorFlow backend.\n"
     ]
    }
   ],
   "source": [
    "import keras\n",
    "from keras.models import Sequential\n",
    "from keras.layers import Dense\n",
    "from keras.layers import Dropout"
   ]
  },
  {
   "cell_type": "code",
   "execution_count": 120,
   "metadata": {
    "collapsed": true
   },
   "outputs": [],
   "source": [
    "# Initialising the ANN\n",
    "classifier = Sequential()"
   ]
  },
  {
   "cell_type": "code",
   "execution_count": 121,
   "metadata": {
    "collapsed": true
   },
   "outputs": [],
   "source": [
    "# Adding the input layer and the first hidden layer\n",
    "classifier.add(Dense(units = 15, kernel_initializer = 'uniform', activation = 'relu', input_dim = 178))"
   ]
  },
  {
   "cell_type": "code",
   "execution_count": 122,
   "metadata": {
    "collapsed": true
   },
   "outputs": [],
   "source": [
    "# Adding the second hidden layer\n",
    "classifier.add(Dense(units = 15, kernel_initializer = 'uniform', activation = 'relu'))\n",
    "classifier.add(Dense(units = 15, kernel_initializer = 'uniform', activation = 'relu'))\n",
    "classifier.add(Dense(units = 15, kernel_initializer = 'uniform', activation = 'relu'))\n",
    "classifier.add(Dense(units = 15, kernel_initializer = 'uniform', activation = 'relu'))"
   ]
  },
  {
   "cell_type": "code",
   "execution_count": 123,
   "metadata": {
    "collapsed": true
   },
   "outputs": [],
   "source": [
    "# Adding the output layer\n",
    "classifier.add(Dense(units = 1, kernel_initializer = 'uniform', activation = 'sigmoid'))"
   ]
  },
  {
   "cell_type": "code",
   "execution_count": 124,
   "metadata": {
    "collapsed": true
   },
   "outputs": [],
   "source": [
    "# Compiling the ANN\n",
    "classifier.compile(optimizer = 'adam', loss = 'binary_crossentropy', metrics = ['accuracy'])"
   ]
  },
  {
   "cell_type": "code",
   "execution_count": 125,
   "metadata": {},
   "outputs": [
    {
     "name": "stdout",
     "output_type": "stream",
     "text": [
      "Epoch 1/100\n",
      "16063/16063 [==============================] - 4s 279us/step - loss: 0.6475 - acc: 0.6155\n",
      "Epoch 2/100\n",
      "16063/16063 [==============================] - 4s 221us/step - loss: 0.5807 - acc: 0.6733\n",
      "Epoch 3/100\n",
      "16063/16063 [==============================] - 4s 223us/step - loss: 0.5712 - acc: 0.6815\n",
      "Epoch 4/100\n",
      "16063/16063 [==============================] - 3s 203us/step - loss: 0.5682 - acc: 0.6852\n",
      "Epoch 5/100\n",
      "16063/16063 [==============================] - 4s 231us/step - loss: 0.5658 - acc: 0.6876\n",
      "Epoch 6/100\n",
      "16063/16063 [==============================] - 4s 230us/step - loss: 0.5624 - acc: 0.6916\n",
      "Epoch 7/100\n",
      "16063/16063 [==============================] - 4s 227us/step - loss: 0.5614 - acc: 0.6912\n",
      "Epoch 8/100\n",
      "16063/16063 [==============================] - 4s 247us/step - loss: 0.5591 - acc: 0.6951\n",
      "Epoch 9/100\n",
      "16063/16063 [==============================] - 3s 162us/step - loss: 0.5572 - acc: 0.6973\n",
      "Epoch 10/100\n",
      "16063/16063 [==============================] - 3s 161us/step - loss: 0.5555 - acc: 0.6994\n",
      "Epoch 11/100\n",
      "16063/16063 [==============================] - 3s 178us/step - loss: 0.5539 - acc: 0.7018\n",
      "Epoch 12/100\n",
      "16063/16063 [==============================] - 3s 174us/step - loss: 0.5517 - acc: 0.7032\n",
      "Epoch 13/100\n",
      "16063/16063 [==============================] - 3s 170us/step - loss: 0.5510 - acc: 0.7024\n",
      "Epoch 14/100\n",
      "16063/16063 [==============================] - 3s 159us/step - loss: 0.5491 - acc: 0.7047\n",
      "Epoch 15/100\n",
      "16063/16063 [==============================] - 3s 161us/step - loss: 0.5467 - acc: 0.7073\n",
      "Epoch 16/100\n",
      "16063/16063 [==============================] - 3s 181us/step - loss: 0.5447 - acc: 0.7108 0s - los\n",
      "Epoch 17/100\n",
      "16063/16063 [==============================] - 4s 221us/step - loss: 0.5446 - acc: 0.7089\n",
      "Epoch 18/100\n",
      "16063/16063 [==============================] - 4s 229us/step - loss: 0.5428 - acc: 0.7131\n",
      "Epoch 19/100\n",
      "16063/16063 [==============================] - 4s 234us/step - loss: 0.5396 - acc: 0.7139\n",
      "Epoch 20/100\n",
      "16063/16063 [==============================] - 3s 214us/step - loss: 0.5381 - acc: 0.7159\n",
      "Epoch 21/100\n",
      "16063/16063 [==============================] - 3s 171us/step - loss: 0.5374 - acc: 0.7166\n",
      "Epoch 22/100\n",
      "16063/16063 [==============================] - 4s 228us/step - loss: 0.5354 - acc: 0.7166\n",
      "Epoch 23/100\n",
      "16063/16063 [==============================] - 3s 211us/step - loss: 0.5353 - acc: 0.7174\n",
      "Epoch 24/100\n",
      "16063/16063 [==============================] - 3s 179us/step - loss: 0.5343 - acc: 0.7179\n",
      "Epoch 25/100\n",
      "16063/16063 [==============================] - 3s 178us/step - loss: 0.5329 - acc: 0.7201\n",
      "Epoch 26/100\n",
      "16063/16063 [==============================] - 3s 176us/step - loss: 0.5302 - acc: 0.7208\n",
      "Epoch 27/100\n",
      "16063/16063 [==============================] - 4s 221us/step - loss: 0.5297 - acc: 0.7216\n",
      "Epoch 28/100\n",
      "16063/16063 [==============================] - 4s 226us/step - loss: 0.5277 - acc: 0.7237\n",
      "Epoch 29/100\n",
      "16063/16063 [==============================] - 4s 225us/step - loss: 0.5275 - acc: 0.7250\n",
      "Epoch 30/100\n",
      "16063/16063 [==============================] - 4s 239us/step - loss: 0.5246 - acc: 0.7242\n",
      "Epoch 31/100\n",
      "16063/16063 [==============================] - 4s 228us/step - loss: 0.5229 - acc: 0.7258\n",
      "Epoch 32/100\n",
      "16063/16063 [==============================] - 4s 219us/step - loss: 0.5223 - acc: 0.7260\n",
      "Epoch 33/100\n",
      "16063/16063 [==============================] - 4s 224us/step - loss: 0.5222 - acc: 0.7275\n",
      "Epoch 34/100\n",
      "16063/16063 [==============================] - 4s 221us/step - loss: 0.5190 - acc: 0.7304\n",
      "Epoch 35/100\n",
      "16063/16063 [==============================] - 4s 226us/step - loss: 0.5188 - acc: 0.7307\n",
      "Epoch 36/100\n",
      "16063/16063 [==============================] - 4s 223us/step - loss: 0.5183 - acc: 0.7308\n",
      "Epoch 37/100\n",
      "16063/16063 [==============================] - 4s 229us/step - loss: 0.5161 - acc: 0.7331\n",
      "Epoch 38/100\n",
      "16063/16063 [==============================] - 3s 174us/step - loss: 0.5129 - acc: 0.7363\n",
      "Epoch 39/100\n",
      "16063/16063 [==============================] - 3s 160us/step - loss: 0.5125 - acc: 0.7345\n",
      "Epoch 40/100\n",
      "16063/16063 [==============================] - 3s 161us/step - loss: 0.5111 - acc: 0.7336\n",
      "Epoch 41/100\n",
      "16063/16063 [==============================] - 3s 169us/step - loss: 0.5096 - acc: 0.7361\n",
      "Epoch 42/100\n",
      "16063/16063 [==============================] - 3s 161us/step - loss: 0.5094 - acc: 0.7361\n",
      "Epoch 43/100\n",
      "16063/16063 [==============================] - 3s 170us/step - loss: 0.5066 - acc: 0.7387\n",
      "Epoch 44/100\n",
      "16063/16063 [==============================] - 3s 202us/step - loss: 0.5038 - acc: 0.7418\n",
      "Epoch 45/100\n",
      "16063/16063 [==============================] - 4s 223us/step - loss: 0.5041 - acc: 0.7401\n",
      "Epoch 46/100\n",
      "16063/16063 [==============================] - 4s 223us/step - loss: 0.5010 - acc: 0.7411 0s - loss: 0.5007 - acc: 0.74\n",
      "Epoch 47/100\n",
      "16063/16063 [==============================] - 4s 224us/step - loss: 0.5003 - acc: 0.7438\n",
      "Epoch 48/100\n",
      "16063/16063 [==============================] - 4s 225us/step - loss: 0.5002 - acc: 0.7436 2s - loss: 0.499\n",
      "Epoch 49/100\n",
      "16063/16063 [==============================] - 4s 224us/step - loss: 0.4984 - acc: 0.7426\n",
      "Epoch 50/100\n",
      "16063/16063 [==============================] - 3s 193us/step - loss: 0.4960 - acc: 0.7444\n",
      "Epoch 51/100\n",
      "16063/16063 [==============================] - 3s 194us/step - loss: 0.4951 - acc: 0.7451 0s - loss: 0.4910 - a\n",
      "Epoch 52/100\n",
      "16063/16063 [==============================] - 4s 234us/step - loss: 0.4931 - acc: 0.7472\n",
      "Epoch 53/100\n",
      "16063/16063 [==============================] - 3s 186us/step - loss: 0.4907 - acc: 0.7461\n",
      "Epoch 54/100\n",
      "16063/16063 [==============================] - 3s 168us/step - loss: 0.4904 - acc: 0.7462\n",
      "Epoch 55/100\n",
      "16063/16063 [==============================] - 3s 193us/step - loss: 0.4897 - acc: 0.7486 1s - loss\n",
      "Epoch 56/100\n",
      "16063/16063 [==============================] - 3s 181us/step - loss: 0.4876 - acc: 0.7491\n",
      "Epoch 57/100\n",
      "16063/16063 [==============================] - 3s 172us/step - loss: 0.4883 - acc: 0.7485\n",
      "Epoch 58/100\n",
      "16063/16063 [==============================] - 3s 171us/step - loss: 0.4852 - acc: 0.7504\n",
      "Epoch 59/100\n",
      "16063/16063 [==============================] - 4s 225us/step - loss: 0.4855 - acc: 0.7477\n",
      "Epoch 60/100\n",
      "16063/16063 [==============================] - 4s 224us/step - loss: 0.4838 - acc: 0.7474\n",
      "Epoch 61/100\n",
      "16063/16063 [==============================] - 4s 223us/step - loss: 0.4822 - acc: 0.7512 3s - los\n",
      "Epoch 62/100\n",
      "16063/16063 [==============================] - 4s 223us/step - loss: 0.4817 - acc: 0.7526\n",
      "Epoch 63/100\n",
      "16063/16063 [==============================] - 4s 223us/step - loss: 0.4811 - acc: 0.7498 0s - loss: 0.4814 - a\n",
      "Epoch 64/100\n",
      "16063/16063 [==============================] - 4s 221us/step - loss: 0.4836 - acc: 0.7529\n",
      "Epoch 65/100\n",
      "16063/16063 [==============================] - 4s 221us/step - loss: 0.4783 - acc: 0.7540\n",
      "Epoch 66/100\n",
      "16063/16063 [==============================] - 4s 223us/step - loss: 0.4776 - acc: 0.7523\n",
      "Epoch 67/100\n",
      "16063/16063 [==============================] - 4s 222us/step - loss: 0.4741 - acc: 0.7550\n",
      "Epoch 68/100\n",
      "16063/16063 [==============================] - 4s 223us/step - loss: 0.4736 - acc: 0.7551\n",
      "Epoch 69/100\n",
      "16063/16063 [==============================] - 4s 221us/step - loss: 0.4746 - acc: 0.7565\n",
      "Epoch 70/100\n",
      "16063/16063 [==============================] - 4s 220us/step - loss: 0.4718 - acc: 0.7588\n",
      "Epoch 71/100\n",
      "16063/16063 [==============================] - 4s 219us/step - loss: 0.4722 - acc: 0.7575\n",
      "Epoch 72/100\n",
      "16063/16063 [==============================] - 4s 219us/step - loss: 0.4702 - acc: 0.7586\n",
      "Epoch 73/100\n",
      "16063/16063 [==============================] - 4s 219us/step - loss: 0.4702 - acc: 0.7565\n",
      "Epoch 74/100\n",
      "16063/16063 [==============================] - 4s 219us/step - loss: 0.4702 - acc: 0.7561\n",
      "Epoch 75/100\n",
      "16063/16063 [==============================] - 4s 219us/step - loss: 0.4696 - acc: 0.7558\n",
      "Epoch 76/100\n",
      "16063/16063 [==============================] - 4s 221us/step - loss: 0.4677 - acc: 0.7570 0s - loss: 0.46\n",
      "Epoch 77/100\n",
      "16063/16063 [==============================] - 4s 219us/step - loss: 0.4703 - acc: 0.7573\n",
      "Epoch 78/100\n",
      "16063/16063 [==============================] - 4s 220us/step - loss: 0.4655 - acc: 0.7604\n",
      "Epoch 79/100\n"
     ]
    },
    {
     "name": "stdout",
     "output_type": "stream",
     "text": [
      "16063/16063 [==============================] - 4s 221us/step - loss: 0.4659 - acc: 0.7579\n",
      "Epoch 80/100\n",
      "16063/16063 [==============================] - 4s 221us/step - loss: 0.4618 - acc: 0.7614\n",
      "Epoch 81/100\n",
      "16063/16063 [==============================] - 4s 225us/step - loss: 0.4651 - acc: 0.7588\n",
      "Epoch 82/100\n",
      "16063/16063 [==============================] - 4s 226us/step - loss: 0.4618 - acc: 0.7606\n",
      "Epoch 83/100\n",
      "16063/16063 [==============================] - 4s 224us/step - loss: 0.4598 - acc: 0.7605\n",
      "Epoch 84/100\n",
      "16063/16063 [==============================] - 4s 221us/step - loss: 0.4608 - acc: 0.7626\n",
      "Epoch 85/100\n",
      "16063/16063 [==============================] - 4s 230us/step - loss: 0.4603 - acc: 0.7618\n",
      "Epoch 86/100\n",
      "16063/16063 [==============================] - 4s 232us/step - loss: 0.4565 - acc: 0.7624\n",
      "Epoch 87/100\n",
      "16063/16063 [==============================] - 4s 230us/step - loss: 0.4580 - acc: 0.7617\n",
      "Epoch 88/100\n",
      "16063/16063 [==============================] - 4s 234us/step - loss: 0.4600 - acc: 0.7603\n",
      "Epoch 89/100\n",
      "16063/16063 [==============================] - 4s 231us/step - loss: 0.4565 - acc: 0.7618\n",
      "Epoch 90/100\n",
      "16063/16063 [==============================] - 4s 230us/step - loss: 0.4551 - acc: 0.7607\n",
      "Epoch 91/100\n",
      "16063/16063 [==============================] - 4s 230us/step - loss: 0.4529 - acc: 0.7641\n",
      "Epoch 92/100\n",
      "16063/16063 [==============================] - 4s 231us/step - loss: 0.4526 - acc: 0.7633\n",
      "Epoch 93/100\n",
      "16063/16063 [==============================] - 4s 232us/step - loss: 0.4508 - acc: 0.7631 1s - loss\n",
      "Epoch 94/100\n",
      "16063/16063 [==============================] - 4s 231us/step - loss: 0.4514 - acc: 0.7651\n",
      "Epoch 95/100\n",
      "16063/16063 [==============================] - 4s 233us/step - loss: 0.4503 - acc: 0.7654\n",
      "Epoch 96/100\n",
      "16063/16063 [==============================] - 4s 226us/step - loss: 0.4520 - acc: 0.7649\n",
      "Epoch 97/100\n",
      "16063/16063 [==============================] - 3s 180us/step - loss: 0.4503 - acc: 0.7629\n",
      "Epoch 98/100\n",
      "16063/16063 [==============================] - 4s 237us/step - loss: 0.4513 - acc: 0.7624\n",
      "Epoch 99/100\n",
      "16063/16063 [==============================] - 4s 233us/step - loss: 0.4478 - acc: 0.7660 0s - loss: 0.447\n",
      "Epoch 100/100\n",
      "16063/16063 [==============================] - 4s 229us/step - loss: 0.4511 - acc: 0.7639\n"
     ]
    },
    {
     "data": {
      "text/plain": [
       "<keras.callbacks.History at 0x29cd64499b0>"
      ]
     },
     "execution_count": 125,
     "metadata": {},
     "output_type": "execute_result"
    }
   ],
   "source": [
    "# Fitting the ANN to the Training set\n",
    "classifier.fit(X_train, y_train, batch_size = 10, epochs = 100)"
   ]
  }
 ],
 "metadata": {
  "kernelspec": {
   "display_name": "Python 3",
   "language": "python",
   "name": "python3"
  },
  "language_info": {
   "codemirror_mode": {
    "name": "ipython",
    "version": 3
   },
   "file_extension": ".py",
   "mimetype": "text/x-python",
   "name": "python",
   "nbconvert_exporter": "python",
   "pygments_lexer": "ipython3",
   "version": "3.6.2"
  }
 },
 "nbformat": 4,
 "nbformat_minor": 2
}
